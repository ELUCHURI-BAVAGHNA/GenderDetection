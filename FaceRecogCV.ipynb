{
  "cells": [
    {
      "cell_type": "code",
      "execution_count": 1,
      "metadata": {
        "id": "bKaMGyzrEo7G"
      },
      "outputs": [],
      "source": [
        "import cv2\n",
        "import numpy as np\n",
        "import tensorflow as tf\n",
        "\n"
      ]
    },
    {
      "cell_type": "code",
      "execution_count": 2,
      "metadata": {
        "colab": {
          "base_uri": "https://localhost:8080/",
          "height": 17
        },
        "id": "8aOPWZC_Gl1N",
        "outputId": "ae4230be-dde9-43de-ffe6-d875f9bffb7a"
      },
      "outputs": [],
      "source": [
        "# from google.colab import files\n",
        "# files.download('/content/drive/MyDrive/gender_model.h5')\n"
      ]
    },
    {
      "cell_type": "code",
      "execution_count": null,
      "metadata": {
        "colab": {
          "base_uri": "https://localhost:8080/"
        },
        "id": "Yx1IYLYWFs3b",
        "outputId": "ceafd69f-4ebc-4c9a-d243-a3170620d9c9"
      },
      "outputs": [],
      "source": [
        "import os\n",
        "os.listdir('/content/drive/MyDrive')\n"
      ]
    },
    {
      "cell_type": "code",
      "execution_count": null,
      "metadata": {
        "colab": {
          "base_uri": "https://localhost:8080/"
        },
        "id": "KDNrsN9tE4po",
        "outputId": "368efcc7-4290-45a9-bc06-f46673dbbb73"
      },
      "outputs": [],
      "source": [
        "model = tf.keras.models.load_model('/content/drive/MyDrive/gender_model.h5')\n"
      ]
    },
    {
      "cell_type": "code",
      "execution_count": 13,
      "metadata": {
        "id": "ThGrsJ0jEwxO"
      },
      "outputs": [],
      "source": [
        "def preprocess_frame(frame):\n",
        "    resized = cv2.resize(frame, (200, 200))          # Resize to match training size\n",
        "    normalized = resized / 255.0                     # Normalize\n",
        "    reshaped = np.reshape(normalized, (1, 200, 200, 3))  # Reshape for model input\n",
        "    return reshaped\n"
      ]
    },
    {
      "cell_type": "code",
      "execution_count": 14,
      "metadata": {
        "id": "qi5eyqdNEzTD"
      },
      "outputs": [],
      "source": [
        "cap = cv2.VideoCapture(0)  # 0 for default webcam\n",
        "\n",
        "while True:\n",
        "    ret, frame = cap.read()\n",
        "    if not ret:\n",
        "        break\n",
        "\n",
        "    input_image = preprocess_frame(frame)\n",
        "    prediction = model.predict(input_image)\n",
        "    label = np.argmax(prediction)\n",
        "\n",
        "    text = \"Male\" if label == 1 else \"Female\"\n",
        "    cv2.putText(frame, text, (30, 30), cv2.FONT_HERSHEY_SIMPLEX,\n",
        "                1, (255, 0, 0), 2, cv2.LINE_AA)\n",
        "\n",
        "    cv2.imshow('Gender Prediction', frame)\n",
        "\n",
        "    # Press 'q' to quit\n",
        "    if cv2.waitKey(1) & 0xFF == ord('q'):\n",
        "        break\n",
        "\n",
        "cap.release()\n",
        "cv2.destroyAllWindows()\n"
      ]
    },
    {
      "cell_type": "code",
      "execution_count": null,
      "metadata": {
        "id": "loRrihI2E013"
      },
      "outputs": [],
      "source": []
    }
  ],
  "metadata": {
    "colab": {
      "provenance": []
    },
    "kernelspec": {
      "display_name": "Python 3",
      "name": "python3"
    },
    "language_info": {
      "codemirror_mode": {
        "name": "ipython",
        "version": 3
      },
      "file_extension": ".py",
      "mimetype": "text/x-python",
      "name": "python",
      "nbconvert_exporter": "python",
      "pygments_lexer": "ipython3",
      "version": "3.10.0"
    }
  },
  "nbformat": 4,
  "nbformat_minor": 0
}
